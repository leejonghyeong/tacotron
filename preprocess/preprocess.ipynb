{
 "cells": [
  {
   "cell_type": "code",
   "execution_count": 2,
   "metadata": {},
   "outputs": [
    {
     "name": "stderr",
     "output_type": "stream",
     "text": [
      "C:\\Users\\leejo\\Desktop\\파이썬\\venv-bert_QA_task\\venv\\lib\\site-packages\\torchaudio\\extension\\extension.py:13: UserWarning: torchaudio C++ extension is not available.\n",
      "  warnings.warn('torchaudio C++ extension is not available.')\n"
     ]
    }
   ],
   "source": [
    "import librosa\n",
    "import librosa.display\n",
    "\n",
    "import torch\n",
    "from torch.utils.data import DataLoader\n",
    "import numpy as np\n",
    "from utils1 import *\n",
    "import hyperparameter1 as hp"
   ]
  },
  {
   "cell_type": "code",
   "execution_count": 10,
   "metadata": {},
   "outputs": [],
   "source": [
    "#get tokenized text data\n",
    "infile = 'C:\\\\Users\\\\leejo\\\\Desktop\\\\파이썬\\\\tacotron\\\\archive\\\\transcript.v.1.4.txt'\n",
    "outfile = 'C:\\\\Users\\\\leejo\\\\Desktop\\\\파이썬\\\\tacotron\\\\archive\\\\transcript_ko.txt'\n",
    "get_tokenized(infile, outfile)"
   ]
  },
  {
   "cell_type": "code",
   "execution_count": 3,
   "metadata": {},
   "outputs": [],
   "source": [
    "device = torch.device('cuda' if torch.cuda.is_available() else 'cpu')"
   ]
  },
  {
   "cell_type": "code",
   "execution_count": 2,
   "metadata": {},
   "outputs": [
    {
     "data": {
      "application/vnd.jupyter.widget-view+json": {
       "model_id": "a85e34d8c6324a9fa30546ecd0fb2dab",
       "version_major": 2,
       "version_minor": 0
      },
      "text/plain": [
       "HBox(children=(FloatProgress(value=0.0, max=1.0), HTML(value='')))"
      ]
     },
     "metadata": {},
     "output_type": "display_data"
    },
    {
     "name": "stdout",
     "output_type": "stream",
     "text": [
      "\n"
     ]
    }
   ],
   "source": [
    "#get lin_targets\n",
    "files = ['test_data\\\\1_0000.wav','test_data\\\\1_0001.wav']\n",
    "'''\n",
    "files = librosa.util.find_files('/content/drive/MyDrive/Colab Notebooks/tacotron/archive/kss')\n",
    "files1 = files[:len(files)//3]\n",
    "files2 = files[len(files)//3:len(files)//3 * 2]\n",
    "files3 = files[len(files)//3 * 2:]\n",
    "file_list = [files1, files2, files3]\n",
    "\n",
    "for n in range(3):\n",
    "  audio_dataset = AudioDataset(file_list[n])\n",
    "  audio_dataloader = DataLoader(audio_dataset,\n",
    "                                batch_size= hp.batch_size,\n",
    "                                collate_fn=collate_fn,\n",
    "                                pin_memory= True)\n",
    "\n",
    "  lin_outfile = f'C:\\\\Users\\\\leejo\\\\Desktop\\\\파이썬\\\\tacotron\\\\archive\\\\lin_target{n+1}.pt'\n",
    "  get_lin(device, lin_outfile, audio_dataloader)\n",
    "'''\n",
    "\n",
    "  audio_dataset = AudioDataset(files)\n",
    "  audio_dataloader = DataLoader(audio_dataset,\n",
    "                                batch_size= hp.batch_size,\n",
    "                                collate_fn=collate_fn,\n",
    "                                pin_memory= True)\n",
    "\n",
    "  lin_outfile = 'C:\\\\Users\\\\leejo\\\\Desktop\\\\파이썬\\\\tacotron\\\\archive\\\\lin_target.pt'\n",
    "  get_lin(device, lin_outfile, audio_dataloader)"
   ]
  },
  {
   "cell_type": "code",
   "execution_count": 6,
   "metadata": {},
   "outputs": [
    {
     "data": {
      "application/vnd.jupyter.widget-view+json": {
       "model_id": "abcf3c222c8944c1ada2ce19253c7809",
       "version_major": 2,
       "version_minor": 0
      },
      "text/plain": [
       "HBox(children=(FloatProgress(value=0.0, max=1.0), HTML(value='')))"
      ]
     },
     "metadata": {},
     "output_type": "display_data"
    },
    {
     "name": "stdout",
     "output_type": "stream",
     "text": [
      "\n"
     ]
    }
   ],
   "source": [
    "#get mel_targets\n",
    "from torchaudio.transforms import MelScale\n",
    "mel_transform = MelScale(n_mels= 80, sample_rate=44100,n_stft=hp.n_fft // 2 + 1)\n",
    "for n in range(3):\n",
    "  lin_infile = f'C:\\\\Users\\\\leejo\\\\Desktop\\\\파이썬\\\\tacotron\\\\archive\\\\lin_target{n+1}.pt'\n",
    "  mel_outfile = f'test_data\\\\mel_target{n+1}.pt'\n",
    "  get_mel(device, lin_infile, mel_outfile, mel_transform)"
   ]
  }
 ],
 "metadata": {
  "interpreter": {
   "hash": "830fc09f41f4a8127b783ad2119e0f8b44080ccbdb0580da15d6f44fb7345381"
  },
  "kernelspec": {
   "display_name": "Python 3.9.1 64-bit ('venv': venv)",
   "language": "python",
   "name": "python3"
  },
  "language_info": {
   "codemirror_mode": {
    "name": "ipython",
    "version": 3
   },
   "file_extension": ".py",
   "mimetype": "text/x-python",
   "name": "python",
   "nbconvert_exporter": "python",
   "pygments_lexer": "ipython3",
   "version": "3.9.1"
  },
  "orig_nbformat": 4
 },
 "nbformat": 4,
 "nbformat_minor": 2
}

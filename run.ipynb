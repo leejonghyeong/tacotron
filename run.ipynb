{
 "cells": [
  {
   "cell_type": "code",
   "execution_count": 1,
   "metadata": {},
   "outputs": [
    {
     "name": "stderr",
     "output_type": "stream",
     "text": [
      "C:\\Users\\leejo\\Desktop\\파이썬\\venv-bert_QA_task\\venv\\lib\\site-packages\\torchaudio\\extension\\extension.py:13: UserWarning: torchaudio C++ extension is not available.\n",
      "  warnings.warn('torchaudio C++ extension is not available.')\n"
     ]
    }
   ],
   "source": [
    "from run_train import run_train\n",
    "from run_test import run_test, show_attn_align, get_voice, compare_wav_plot\n",
    "from network import Tacotron\n",
    "from utils import TacotronDataset, collate_fn\n",
    "import hyperparameter as hp\n",
    "\n",
    "import torch\n",
    "from torch.utils.data import DataLoader\n",
    "from transformers import AdamW\n",
    "import numpy as np\n",
    "import random\n",
    "from matplotlib import pyplot as plt"
   ]
  },
  {
   "cell_type": "code",
   "execution_count": 2,
   "metadata": {},
   "outputs": [
    {
     "name": "stderr",
     "output_type": "stream",
     "text": [
      "C:\\Users\\leejo\\Desktop\\파이썬\\venv-bert_QA_task\\venv\\lib\\site-packages\\torch\\functional.py:654: UserWarning: istft will require a complex-valued input tensor in a future PyTorch release. Matching the output from stft with return_complex=True.  (Triggered internally at  ..\\aten\\src\\ATen\\native\\SpectralOps.cpp:787.)\n",
      "  return _VF.istft(input, n_fft, hop_length, win_length, window, center,  # type: ignore\n",
      "C:\\Users\\leejo\\Desktop\\파이썬\\venv-bert_QA_task\\venv\\lib\\site-packages\\torchsummaryX\\torchsummaryX.py:101: FutureWarning: Dropping of nuisance columns in DataFrame reductions (with 'numeric_only=None') is deprecated; in a future version this will raise TypeError.  Select only valid columns before calling the reduction.\n",
      "  df_sum = df.sum()\n"
     ]
    },
    {
     "name": "stdout",
     "output_type": "stream",
     "text": [
      "=============================================================================================================\n",
      "                                         Kernel Shape      Output Shape  \\\n",
      "Layer                                                                     \n",
      "0_encoder.Embedding_char_emb              [256, 8002]   [32, 1025, 256]   \n",
      "1_encoder.pre_net.Linear_fc1               [256, 256]   [32, 1025, 256]   \n",
      "2_encoder.pre_net.Dropout_dropout1                  -   [32, 1025, 256]   \n",
      "3_encoder.pre_net.Linear_fc2               [256, 128]   [32, 1025, 128]   \n",
      "4_encoder.pre_net.Dropout_dropout2                  -   [32, 1025, 128]   \n",
      "...                                               ...               ...   \n",
      "6788_postprocess.cbhg.highway.3.Linear_0   [128, 128]   [32, 1024, 128]   \n",
      "6789_postprocess.cbhg.highway.3.ReLU_1              -   [32, 1024, 128]   \n",
      "6790_postprocess.cbhg.GRU_bigru                     -   [32, 1024, 256]   \n",
      "6791_vocoder.Linear_linear                [256, 1025]  [32, 1024, 1025]   \n",
      "6792_vocoder.GriffinLim_griffinlim                  -      [32, 306900]   \n",
      "\n",
      "                                             Params  Mult-Adds  \n",
      "Layer                                                           \n",
      "0_encoder.Embedding_char_emb              2.048512M  2.048512M  \n",
      "1_encoder.pre_net.Linear_fc1                65.792k    65.536k  \n",
      "2_encoder.pre_net.Dropout_dropout1                -          -  \n",
      "3_encoder.pre_net.Linear_fc2                32.896k    32.768k  \n",
      "4_encoder.pre_net.Dropout_dropout2                -          -  \n",
      "...                                             ...        ...  \n",
      "6788_postprocess.cbhg.highway.3.Linear_0    16.512k    16.384k  \n",
      "6789_postprocess.cbhg.highway.3.ReLU_1            -          -  \n",
      "6790_postprocess.cbhg.GRU_bigru            198.144k   196.608k  \n",
      "6791_vocoder.Linear_linear                 263.425k     262.4k  \n",
      "6792_vocoder.GriffinLim_griffinlim                -          -  \n",
      "\n",
      "[6793 rows x 4 columns]\n",
      "-------------------------------------------------------------------------------------------------------------\n",
      "                            Totals\n",
      "Total params              8.86389M\n",
      "Trainable params          8.86389M\n",
      "Non-trainable params           0.0\n",
      "Mult-Adds             5.225936848G\n",
      "=============================================================================================================\n"
     ]
    },
    {
     "data": {
      "text/html": [
       "<div>\n",
       "<style scoped>\n",
       "    .dataframe tbody tr th:only-of-type {\n",
       "        vertical-align: middle;\n",
       "    }\n",
       "\n",
       "    .dataframe tbody tr th {\n",
       "        vertical-align: top;\n",
       "    }\n",
       "\n",
       "    .dataframe thead th {\n",
       "        text-align: right;\n",
       "    }\n",
       "</style>\n",
       "<table border=\"1\" class=\"dataframe\">\n",
       "  <thead>\n",
       "    <tr style=\"text-align: right;\">\n",
       "      <th></th>\n",
       "      <th>Kernel Shape</th>\n",
       "      <th>Output Shape</th>\n",
       "      <th>Params</th>\n",
       "      <th>Mult-Adds</th>\n",
       "    </tr>\n",
       "    <tr>\n",
       "      <th>Layer</th>\n",
       "      <th></th>\n",
       "      <th></th>\n",
       "      <th></th>\n",
       "      <th></th>\n",
       "    </tr>\n",
       "  </thead>\n",
       "  <tbody>\n",
       "    <tr>\n",
       "      <th>0_encoder.Embedding_char_emb</th>\n",
       "      <td>[256, 8002]</td>\n",
       "      <td>[32, 1025, 256]</td>\n",
       "      <td>2048512.0</td>\n",
       "      <td>2048512.0</td>\n",
       "    </tr>\n",
       "    <tr>\n",
       "      <th>1_encoder.pre_net.Linear_fc1</th>\n",
       "      <td>[256, 256]</td>\n",
       "      <td>[32, 1025, 256]</td>\n",
       "      <td>65792.0</td>\n",
       "      <td>65536.0</td>\n",
       "    </tr>\n",
       "    <tr>\n",
       "      <th>2_encoder.pre_net.Dropout_dropout1</th>\n",
       "      <td>-</td>\n",
       "      <td>[32, 1025, 256]</td>\n",
       "      <td>NaN</td>\n",
       "      <td>NaN</td>\n",
       "    </tr>\n",
       "    <tr>\n",
       "      <th>3_encoder.pre_net.Linear_fc2</th>\n",
       "      <td>[256, 128]</td>\n",
       "      <td>[32, 1025, 128]</td>\n",
       "      <td>32896.0</td>\n",
       "      <td>32768.0</td>\n",
       "    </tr>\n",
       "    <tr>\n",
       "      <th>4_encoder.pre_net.Dropout_dropout2</th>\n",
       "      <td>-</td>\n",
       "      <td>[32, 1025, 128]</td>\n",
       "      <td>NaN</td>\n",
       "      <td>NaN</td>\n",
       "    </tr>\n",
       "    <tr>\n",
       "      <th>...</th>\n",
       "      <td>...</td>\n",
       "      <td>...</td>\n",
       "      <td>...</td>\n",
       "      <td>...</td>\n",
       "    </tr>\n",
       "    <tr>\n",
       "      <th>6788_postprocess.cbhg.highway.3.Linear_0</th>\n",
       "      <td>[128, 128]</td>\n",
       "      <td>[32, 1024, 128]</td>\n",
       "      <td>16512.0</td>\n",
       "      <td>16384.0</td>\n",
       "    </tr>\n",
       "    <tr>\n",
       "      <th>6789_postprocess.cbhg.highway.3.ReLU_1</th>\n",
       "      <td>-</td>\n",
       "      <td>[32, 1024, 128]</td>\n",
       "      <td>NaN</td>\n",
       "      <td>NaN</td>\n",
       "    </tr>\n",
       "    <tr>\n",
       "      <th>6790_postprocess.cbhg.GRU_bigru</th>\n",
       "      <td>-</td>\n",
       "      <td>[32, 1024, 256]</td>\n",
       "      <td>198144.0</td>\n",
       "      <td>196608.0</td>\n",
       "    </tr>\n",
       "    <tr>\n",
       "      <th>6791_vocoder.Linear_linear</th>\n",
       "      <td>[256, 1025]</td>\n",
       "      <td>[32, 1024, 1025]</td>\n",
       "      <td>263425.0</td>\n",
       "      <td>262400.0</td>\n",
       "    </tr>\n",
       "    <tr>\n",
       "      <th>6792_vocoder.GriffinLim_griffinlim</th>\n",
       "      <td>-</td>\n",
       "      <td>[32, 306900]</td>\n",
       "      <td>NaN</td>\n",
       "      <td>NaN</td>\n",
       "    </tr>\n",
       "  </tbody>\n",
       "</table>\n",
       "<p>6793 rows × 4 columns</p>\n",
       "</div>"
      ],
      "text/plain": [
       "                                         Kernel Shape      Output Shape  \\\n",
       "Layer                                                                     \n",
       "0_encoder.Embedding_char_emb              [256, 8002]   [32, 1025, 256]   \n",
       "1_encoder.pre_net.Linear_fc1               [256, 256]   [32, 1025, 256]   \n",
       "2_encoder.pre_net.Dropout_dropout1                  -   [32, 1025, 256]   \n",
       "3_encoder.pre_net.Linear_fc2               [256, 128]   [32, 1025, 128]   \n",
       "4_encoder.pre_net.Dropout_dropout2                  -   [32, 1025, 128]   \n",
       "...                                               ...               ...   \n",
       "6788_postprocess.cbhg.highway.3.Linear_0   [128, 128]   [32, 1024, 128]   \n",
       "6789_postprocess.cbhg.highway.3.ReLU_1              -   [32, 1024, 128]   \n",
       "6790_postprocess.cbhg.GRU_bigru                     -   [32, 1024, 256]   \n",
       "6791_vocoder.Linear_linear                [256, 1025]  [32, 1024, 1025]   \n",
       "6792_vocoder.GriffinLim_griffinlim                  -      [32, 306900]   \n",
       "\n",
       "                                             Params  Mult-Adds  \n",
       "Layer                                                           \n",
       "0_encoder.Embedding_char_emb              2048512.0  2048512.0  \n",
       "1_encoder.pre_net.Linear_fc1                65792.0    65536.0  \n",
       "2_encoder.pre_net.Dropout_dropout1              NaN        NaN  \n",
       "3_encoder.pre_net.Linear_fc2                32896.0    32768.0  \n",
       "4_encoder.pre_net.Dropout_dropout2              NaN        NaN  \n",
       "...                                             ...        ...  \n",
       "6788_postprocess.cbhg.highway.3.Linear_0    16512.0    16384.0  \n",
       "6789_postprocess.cbhg.highway.3.ReLU_1          NaN        NaN  \n",
       "6790_postprocess.cbhg.GRU_bigru            198144.0   196608.0  \n",
       "6791_vocoder.Linear_linear                 263425.0   262400.0  \n",
       "6792_vocoder.GriffinLim_griffinlim              NaN        NaN  \n",
       "\n",
       "[6793 rows x 4 columns]"
      ]
     },
     "execution_count": 2,
     "metadata": {},
     "output_type": "execute_result"
    }
   ],
   "source": [
    "from torchsummaryX import summary\n",
    "model = Tacotron()\n",
    "summary(model, torch.zeros(32, 1025, dtype=torch.long), torch.zeros(32,1025,80), True)"
   ]
  },
  {
   "cell_type": "code",
   "execution_count": null,
   "metadata": {},
   "outputs": [],
   "source": [
    "text_files = 'C:\\\\Users\\\\leejo\\\\Desktop\\\\파이썬\\\\tacotron\\\\archive\\\\transcript_ko.txt'\n",
    "with open(text_files, \"rt\", encoding='UTF8') as f:\n",
    "      text = f.readlines()\n",
    "\n",
    "lin_targets = 'C:\\\\Users\\\\leejo\\\\Desktop\\\\파이썬\\\\tacotron\\\\archive\\\\lin_target.npy'\n",
    "mel_targets = 'C:\\\\Users\\\\leejo\\\\Desktop\\\\파이썬\\\\tacotron\\\\archive\\\\mel_target.npy'\n",
    "\n",
    "#check number of files(text, voice)\n",
    "print(\"num_text: %d\", len(text))\n",
    "# len(lin_targets) == len(mel_targets) == 12859"
   ]
  },
  {
   "cell_type": "code",
   "execution_count": null,
   "metadata": {},
   "outputs": [],
   "source": [
    "#devide data into train, dev, test (8:1:1)\n",
    "train_index = int(len(text) * 0.8)\n",
    "dev_index = int(len(text) * 0.9)\n",
    "\n",
    "text_train = text[:train_index]\n",
    "text_dev = text[train_index:dev_index]\n",
    "text_test = text[dev_index:]\n",
    "\n",
    "lin_train = lin_targets[:train_index]\n",
    "lin_dev = lin_targets[train_index:dev_index]\n",
    "lin_test = lin_targets[dev_index:]\n",
    "\n",
    "mel_train = mel_targets[:train_index]\n",
    "mel_dev = mel_targets[train_index:dev_index]\n",
    "mel_test = mel_targets[dev_index:]"
   ]
  },
  {
   "cell_type": "code",
   "execution_count": null,
   "metadata": {},
   "outputs": [],
   "source": [
    "#load dataset\n",
    "train_dataset = TacotronDataset(text_train, lin_train, mel_train)\n",
    "dev_dataset = TacotronDataset(text_dev, lin_dev, mel_dev)\n",
    "test_dataset = TacotronDataset(text_test, lin_test, mel_test)\n",
    "\n",
    "train_dataloader = DataLoader(train_dataset,\n",
    "                              batch_size=hp.batch_size,\n",
    "                              shuffle=True,\n",
    "                              collate_fn= collate_fn)\n",
    "dev_dataloader = DataLoader(dev_dataset,\n",
    "                              batch_size=hp.batch_size,\n",
    "                              collate_fn= collate_fn)\n",
    "test_dataloader = DataLoader(test_dataset,\n",
    "                              batch_size=hp.batch_size,\n",
    "                              collate_fn= collate_fn)"
   ]
  },
  {
   "cell_type": "code",
   "execution_count": 2,
   "metadata": {},
   "outputs": [],
   "source": [
    "#load model\n",
    "model = Tacotron()\n",
    "model.to(hp.device)\n",
    "\n",
    "#set optimizer\n",
    "optimizer = AdamW(\n",
    "    model.parameters(), \n",
    "    lr = hp.learning_rate, \n",
    "    correct_bias = False\n",
    "    )\n",
    "    \n",
    "#random seed\n",
    "seed_val = 100\n",
    "random.seed(seed_val)\n",
    "np.random.seed(seed_val)\n",
    "torch.manual_seed(seed_val)\n",
    "torch.cuda.manual_seed_all(seed_val)\n",
    "\n",
    "#gradient init\n",
    "model.zero_grad()"
   ]
  },
  {
   "cell_type": "code",
   "execution_count": null,
   "metadata": {},
   "outputs": [],
   "source": [
    "#test_code\n",
    "\n",
    "#get test voice\n",
    "\n",
    "#get test attention alignment\n"
   ]
  },
  {
   "cell_type": "code",
   "execution_count": null,
   "metadata": {},
   "outputs": [],
   "source": [
    "#run_train\n",
    "run_train(hp.n_epoch,\n",
    "          model,\n",
    "          optimizer,\n",
    "          hp.device,\n",
    "          train_dataloader,\n",
    "          dev_dataloader)"
   ]
  },
  {
   "cell_type": "code",
   "execution_count": 3,
   "metadata": {},
   "outputs": [
    {
     "ename": "SyntaxError",
     "evalue": "EOL while scanning string literal (Temp/ipykernel_14604/630936895.py, line 2)",
     "output_type": "error",
     "traceback": [
      "\u001b[1;36m  File \u001b[1;32m\"C:\\Users\\leejo\\AppData\\Local\\Temp/ipykernel_14604/630936895.py\"\u001b[1;36m, line \u001b[1;32m2\u001b[0m\n\u001b[1;33m    torch.save(model.state_dict(), 'C:\\\\Users\\\\leejo\\\\Desktop\\\\파이썬\\\\tacotron)\u001b[0m\n\u001b[1;37m                                                                             ^\u001b[0m\n\u001b[1;31mSyntaxError\u001b[0m\u001b[1;31m:\u001b[0m EOL while scanning string literal\n"
     ]
    }
   ],
   "source": [
    "#save_model\n",
    "torch.save(model.state_dict(), 'C:\\\\Users\\\\leejo\\\\Desktop\\\\파이썬\\\\tacotron\\\\model\\\\model.pt')"
   ]
  },
  {
   "cell_type": "code",
   "execution_count": null,
   "metadata": {},
   "outputs": [],
   "source": [
    "#load model\n",
    "model.load_state_dict(torch.load('C:\\\\Users\\\\leejo\\\\Desktop\\\\파이썬\\\\tacotron\\\\model\\\\model.pt'))\n",
    "model.eval()"
   ]
  },
  {
   "cell_type": "code",
   "execution_count": null,
   "metadata": {},
   "outputs": [],
   "source": [
    "#run_test\n",
    "run_test(model,\n",
    "         hp.device,\n",
    "         test_dataloader)"
   ]
  },
  {
   "cell_type": "code",
   "execution_count": null,
   "metadata": {},
   "outputs": [],
   "source": [
    "#Choose random text, mel data\n",
    "rand_int = random.randint(0, len(text_test)-1)\n",
    "text_random = text_test[rand_int]\n",
    "mel_random = mel_test[rand_int]\n",
    "\n",
    "#get voice\n",
    "voice = get_voice(model, text_random, mel_random)\n",
    "\n",
    "#show attention alignment\n",
    "show_attn_align(model, text_random, mel_random)\n",
    "\n",
    "#compare wav plot\n",
    "#대응되는 original 어떻게 가져올것인가\n",
    "import librosa\n",
    "files = librosa.util.find_files('archive\\kss')\n",
    "audio_random = files[dev_index + rand_int]\n",
    "original, _ = librosa.load(audio_random, sr = hp.sample_rate)\n",
    "compare_wav_plot(model, text_random, mel_random, original, hp.sample_rate)"
   ]
  }
 ],
 "metadata": {
  "interpreter": {
   "hash": "830fc09f41f4a8127b783ad2119e0f8b44080ccbdb0580da15d6f44fb7345381"
  },
  "kernelspec": {
   "display_name": "Python 3.9.1 64-bit ('venv': venv)",
   "language": "python",
   "name": "python3"
  },
  "language_info": {
   "codemirror_mode": {
    "name": "ipython",
    "version": 3
   },
   "file_extension": ".py",
   "mimetype": "text/x-python",
   "name": "python",
   "nbconvert_exporter": "python",
   "pygments_lexer": "ipython3",
   "version": "3.9.1"
  },
  "orig_nbformat": 4
 },
 "nbformat": 4,
 "nbformat_minor": 2
}

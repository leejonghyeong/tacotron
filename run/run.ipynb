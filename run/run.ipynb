{
 "cells": [
  {
   "cell_type": "code",
   "execution_count": null,
   "metadata": {},
   "outputs": [],
   "source": [
    "from .train import run_train\n",
    "from .valid import run_test\n",
    "from ..hyperparameter import hyperparameters as hp\n",
    "\n",
    "\n",
    "with open(text_files, \"rt\", encoding='UTF8') as f:\n",
    "      text = f.readlines()\n",
    "\n",
    "#devide data into train, dev, test (8:1:1)"
   ]
  }
 ],
 "metadata": {
  "language_info": {
   "name": "python"
  },
  "orig_nbformat": 4
 },
 "nbformat": 4,
 "nbformat_minor": 2
}
